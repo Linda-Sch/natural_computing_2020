{
 "cells": [
  {
   "cell_type": "markdown",
   "metadata": {
    "_uuid": "30d20bbed1060adca6d52ea1aed230476d7937ad"
   },
   "source": [
    "## Kaggle Forest Cover Type Prediction\n",
    "### Logistic regression, Random Forest, and LightGBM"
   ]
  },
  {
   "cell_type": "markdown",
   "metadata": {
    "_uuid": "3b5bd9495fb056eaeae7acf25f8aeb17038e4c8c"
   },
   "source": [
    "[Competition](https://www.kaggle.com/c/forest-cover-type-prediction). \n",
    "In this competition you are asked to predict the forest cover type (the predominant kind of tree cover) from strictly cartographic variables (as opposed to remotely sensed data). The actual forest cover type for a given 30 x 30 meter cell was determined from US Forest Service (USFS) Region 2 Resource Information System data. Independent variables were then derived from data obtained from the US Geological Survey and USFS. The data is in raw form (not scaled) and contains binary columns of data for qualitative independent variables such as wilderness areas and soil type.\n",
    "\n",
    "features (more info on [this](https://www.kaggle.com/c/forest-cover-type-prediction/data) competition page):"
   ]
  },
  {
   "cell_type": "markdown",
   "metadata": {
    "_uuid": "0fadbce9b8391f9b8496dc9e082c58d1919accf9"
   },
   "source": [
    "* Elevation - Elevation in meters\n",
    "* Aspect - Aspect in degrees azimuth\n",
    "* Slope - Slope in degrees\n",
    "* Horizontal_Distance_To_Hydrology - Horz Dist to nearest surface water features\n",
    "* Vertical_Distance_To_Hydrology - Vert Dist to nearest surface water features\n",
    "* Horizontal_Distance_To_Roadways - Horz Dist to nearest roadway\n",
    "* Hillshade_9am (0 to 255 index) - Hillshade index at 9am, summer solstice\n",
    "* Hillshade_Noon (0 to 255 index) - Hillshade index at noon, summer solstice\n",
    "* Hillshade_3pm (0 to 255 index) - Hillshade index at 3pm, summer solstice\n",
    "* Horizontal_Distance_To_Fire_Points - Horz Dist to nearest wildfire ignition points\n",
    "* Wilderness_Area (4 binary columns, 0 = absence or 1 = presence) - Wilderness area designation\n",
    "* Soil_Type (40 binary columns, 0 = absence or 1 = presence) - Soil Type designation\n",
    "* Cover_Type (7 types, integers 1 to 7) - Forest Cover Type designation (target)"
   ]
  },
  {
   "cell_type": "markdown",
   "metadata": {
    "_uuid": "271cebcdcd29e2116639c1249fca89f3522ab5d0"
   },
   "source": [
    "**Import libs and load data**"
   ]
  },
  {
   "cell_type": "code",
   "execution_count": 1,
   "metadata": {
    "_uuid": "d012d863b39a3d1c412db19dfef2e8bed074dc19"
   },
   "outputs": [],
   "source": [
    "import numpy as np\n",
    "import pandas as pd\n",
    "%matplotlib inline\n",
    "import matplotlib.pyplot as plt\n",
    "from sklearn.model_selection import train_test_split, GridSearchCV\n",
    "from sklearn.metrics import accuracy_score, confusion_matrix\n",
    "from sklearn.pipeline import Pipeline\n",
    "from sklearn.preprocessing import StandardScaler\n",
    "from sklearn.linear_model import LogisticRegression"
   ]
  },
  {
   "cell_type": "code",
   "execution_count": 2,
   "metadata": {
    "_uuid": "4b015a6e03410fc218f9db43f34cd9a047bba41c"
   },
   "outputs": [],
   "source": [
    "train = pd.read_csv('../../../../../../Documents/TMP/Natural Computing/forest-cover-type-prediction/train.csv',\n",
    "                   index_col='Id')\n",
    "test = pd.read_csv('../../../../../../Documents/TMP/Natural Computing/forest-cover-type-prediction/test.csv',\n",
    "                  index_col='Id')"
   ]
  },
  {
   "cell_type": "code",
   "execution_count": 3,
   "metadata": {
    "_uuid": "ea63fc552afbbbdad9ff50a0499cafb36774e1c1"
   },
   "outputs": [
    {
     "data": {
      "text/html": [
       "<div>\n",
       "<style scoped>\n",
       "    .dataframe tbody tr th:only-of-type {\n",
       "        vertical-align: middle;\n",
       "    }\n",
       "\n",
       "    .dataframe tbody tr th {\n",
       "        vertical-align: top;\n",
       "    }\n",
       "\n",
       "    .dataframe thead th {\n",
       "        text-align: right;\n",
       "    }\n",
       "</style>\n",
       "<table border=\"1\" class=\"dataframe\">\n",
       "  <thead>\n",
       "    <tr style=\"text-align: right;\">\n",
       "      <th>Id</th>\n",
       "      <th>1</th>\n",
       "    </tr>\n",
       "  </thead>\n",
       "  <tbody>\n",
       "    <tr>\n",
       "      <td>Elevation</td>\n",
       "      <td>2596</td>\n",
       "    </tr>\n",
       "    <tr>\n",
       "      <td>Aspect</td>\n",
       "      <td>51</td>\n",
       "    </tr>\n",
       "    <tr>\n",
       "      <td>Slope</td>\n",
       "      <td>3</td>\n",
       "    </tr>\n",
       "    <tr>\n",
       "      <td>Horizontal_Distance_To_Hydrology</td>\n",
       "      <td>258</td>\n",
       "    </tr>\n",
       "    <tr>\n",
       "      <td>Vertical_Distance_To_Hydrology</td>\n",
       "      <td>0</td>\n",
       "    </tr>\n",
       "    <tr>\n",
       "      <td>Horizontal_Distance_To_Roadways</td>\n",
       "      <td>510</td>\n",
       "    </tr>\n",
       "    <tr>\n",
       "      <td>Hillshade_9am</td>\n",
       "      <td>221</td>\n",
       "    </tr>\n",
       "    <tr>\n",
       "      <td>Hillshade_Noon</td>\n",
       "      <td>232</td>\n",
       "    </tr>\n",
       "    <tr>\n",
       "      <td>Hillshade_3pm</td>\n",
       "      <td>148</td>\n",
       "    </tr>\n",
       "    <tr>\n",
       "      <td>Horizontal_Distance_To_Fire_Points</td>\n",
       "      <td>6279</td>\n",
       "    </tr>\n",
       "    <tr>\n",
       "      <td>Wilderness_Area1</td>\n",
       "      <td>1</td>\n",
       "    </tr>\n",
       "    <tr>\n",
       "      <td>Wilderness_Area2</td>\n",
       "      <td>0</td>\n",
       "    </tr>\n",
       "    <tr>\n",
       "      <td>Wilderness_Area3</td>\n",
       "      <td>0</td>\n",
       "    </tr>\n",
       "    <tr>\n",
       "      <td>Wilderness_Area4</td>\n",
       "      <td>0</td>\n",
       "    </tr>\n",
       "    <tr>\n",
       "      <td>Soil_Type1</td>\n",
       "      <td>0</td>\n",
       "    </tr>\n",
       "    <tr>\n",
       "      <td>Soil_Type2</td>\n",
       "      <td>0</td>\n",
       "    </tr>\n",
       "    <tr>\n",
       "      <td>Soil_Type3</td>\n",
       "      <td>0</td>\n",
       "    </tr>\n",
       "    <tr>\n",
       "      <td>Soil_Type4</td>\n",
       "      <td>0</td>\n",
       "    </tr>\n",
       "    <tr>\n",
       "      <td>Soil_Type5</td>\n",
       "      <td>0</td>\n",
       "    </tr>\n",
       "    <tr>\n",
       "      <td>Soil_Type6</td>\n",
       "      <td>0</td>\n",
       "    </tr>\n",
       "    <tr>\n",
       "      <td>Soil_Type7</td>\n",
       "      <td>0</td>\n",
       "    </tr>\n",
       "    <tr>\n",
       "      <td>Soil_Type8</td>\n",
       "      <td>0</td>\n",
       "    </tr>\n",
       "    <tr>\n",
       "      <td>Soil_Type9</td>\n",
       "      <td>0</td>\n",
       "    </tr>\n",
       "    <tr>\n",
       "      <td>Soil_Type10</td>\n",
       "      <td>0</td>\n",
       "    </tr>\n",
       "    <tr>\n",
       "      <td>Soil_Type11</td>\n",
       "      <td>0</td>\n",
       "    </tr>\n",
       "    <tr>\n",
       "      <td>Soil_Type12</td>\n",
       "      <td>0</td>\n",
       "    </tr>\n",
       "    <tr>\n",
       "      <td>Soil_Type13</td>\n",
       "      <td>0</td>\n",
       "    </tr>\n",
       "    <tr>\n",
       "      <td>Soil_Type14</td>\n",
       "      <td>0</td>\n",
       "    </tr>\n",
       "    <tr>\n",
       "      <td>Soil_Type15</td>\n",
       "      <td>0</td>\n",
       "    </tr>\n",
       "    <tr>\n",
       "      <td>Soil_Type16</td>\n",
       "      <td>0</td>\n",
       "    </tr>\n",
       "    <tr>\n",
       "      <td>Soil_Type17</td>\n",
       "      <td>0</td>\n",
       "    </tr>\n",
       "    <tr>\n",
       "      <td>Soil_Type18</td>\n",
       "      <td>0</td>\n",
       "    </tr>\n",
       "    <tr>\n",
       "      <td>Soil_Type19</td>\n",
       "      <td>0</td>\n",
       "    </tr>\n",
       "    <tr>\n",
       "      <td>Soil_Type20</td>\n",
       "      <td>0</td>\n",
       "    </tr>\n",
       "    <tr>\n",
       "      <td>Soil_Type21</td>\n",
       "      <td>0</td>\n",
       "    </tr>\n",
       "    <tr>\n",
       "      <td>Soil_Type22</td>\n",
       "      <td>0</td>\n",
       "    </tr>\n",
       "    <tr>\n",
       "      <td>Soil_Type23</td>\n",
       "      <td>0</td>\n",
       "    </tr>\n",
       "    <tr>\n",
       "      <td>Soil_Type24</td>\n",
       "      <td>0</td>\n",
       "    </tr>\n",
       "    <tr>\n",
       "      <td>Soil_Type25</td>\n",
       "      <td>0</td>\n",
       "    </tr>\n",
       "    <tr>\n",
       "      <td>Soil_Type26</td>\n",
       "      <td>0</td>\n",
       "    </tr>\n",
       "    <tr>\n",
       "      <td>Soil_Type27</td>\n",
       "      <td>0</td>\n",
       "    </tr>\n",
       "    <tr>\n",
       "      <td>Soil_Type28</td>\n",
       "      <td>0</td>\n",
       "    </tr>\n",
       "    <tr>\n",
       "      <td>Soil_Type29</td>\n",
       "      <td>1</td>\n",
       "    </tr>\n",
       "    <tr>\n",
       "      <td>Soil_Type30</td>\n",
       "      <td>0</td>\n",
       "    </tr>\n",
       "    <tr>\n",
       "      <td>Soil_Type31</td>\n",
       "      <td>0</td>\n",
       "    </tr>\n",
       "    <tr>\n",
       "      <td>Soil_Type32</td>\n",
       "      <td>0</td>\n",
       "    </tr>\n",
       "    <tr>\n",
       "      <td>Soil_Type33</td>\n",
       "      <td>0</td>\n",
       "    </tr>\n",
       "    <tr>\n",
       "      <td>Soil_Type34</td>\n",
       "      <td>0</td>\n",
       "    </tr>\n",
       "    <tr>\n",
       "      <td>Soil_Type35</td>\n",
       "      <td>0</td>\n",
       "    </tr>\n",
       "    <tr>\n",
       "      <td>Soil_Type36</td>\n",
       "      <td>0</td>\n",
       "    </tr>\n",
       "    <tr>\n",
       "      <td>Soil_Type37</td>\n",
       "      <td>0</td>\n",
       "    </tr>\n",
       "    <tr>\n",
       "      <td>Soil_Type38</td>\n",
       "      <td>0</td>\n",
       "    </tr>\n",
       "    <tr>\n",
       "      <td>Soil_Type39</td>\n",
       "      <td>0</td>\n",
       "    </tr>\n",
       "    <tr>\n",
       "      <td>Soil_Type40</td>\n",
       "      <td>0</td>\n",
       "    </tr>\n",
       "    <tr>\n",
       "      <td>Cover_Type</td>\n",
       "      <td>5</td>\n",
       "    </tr>\n",
       "  </tbody>\n",
       "</table>\n",
       "</div>"
      ],
      "text/plain": [
       "Id                                     1\n",
       "Elevation                           2596\n",
       "Aspect                                51\n",
       "Slope                                  3\n",
       "Horizontal_Distance_To_Hydrology     258\n",
       "Vertical_Distance_To_Hydrology         0\n",
       "Horizontal_Distance_To_Roadways      510\n",
       "Hillshade_9am                        221\n",
       "Hillshade_Noon                       232\n",
       "Hillshade_3pm                        148\n",
       "Horizontal_Distance_To_Fire_Points  6279\n",
       "Wilderness_Area1                       1\n",
       "Wilderness_Area2                       0\n",
       "Wilderness_Area3                       0\n",
       "Wilderness_Area4                       0\n",
       "Soil_Type1                             0\n",
       "Soil_Type2                             0\n",
       "Soil_Type3                             0\n",
       "Soil_Type4                             0\n",
       "Soil_Type5                             0\n",
       "Soil_Type6                             0\n",
       "Soil_Type7                             0\n",
       "Soil_Type8                             0\n",
       "Soil_Type9                             0\n",
       "Soil_Type10                            0\n",
       "Soil_Type11                            0\n",
       "Soil_Type12                            0\n",
       "Soil_Type13                            0\n",
       "Soil_Type14                            0\n",
       "Soil_Type15                            0\n",
       "Soil_Type16                            0\n",
       "Soil_Type17                            0\n",
       "Soil_Type18                            0\n",
       "Soil_Type19                            0\n",
       "Soil_Type20                            0\n",
       "Soil_Type21                            0\n",
       "Soil_Type22                            0\n",
       "Soil_Type23                            0\n",
       "Soil_Type24                            0\n",
       "Soil_Type25                            0\n",
       "Soil_Type26                            0\n",
       "Soil_Type27                            0\n",
       "Soil_Type28                            0\n",
       "Soil_Type29                            1\n",
       "Soil_Type30                            0\n",
       "Soil_Type31                            0\n",
       "Soil_Type32                            0\n",
       "Soil_Type33                            0\n",
       "Soil_Type34                            0\n",
       "Soil_Type35                            0\n",
       "Soil_Type36                            0\n",
       "Soil_Type37                            0\n",
       "Soil_Type38                            0\n",
       "Soil_Type39                            0\n",
       "Soil_Type40                            0\n",
       "Cover_Type                             5"
      ]
     },
     "execution_count": 3,
     "metadata": {},
     "output_type": "execute_result"
    }
   ],
   "source": [
    "train.head(1).T"
   ]
  },
  {
   "cell_type": "code",
   "execution_count": 4,
   "metadata": {
    "_uuid": "d2fca85c07541fac5b1c14d7222ed47dfe08072a"
   },
   "outputs": [
    {
     "data": {
      "text/plain": [
       "7    2160\n",
       "6    2160\n",
       "5    2160\n",
       "4    2160\n",
       "3    2160\n",
       "2    2160\n",
       "1    2160\n",
       "Name: Cover_Type, dtype: int64"
      ]
     },
     "execution_count": 4,
     "metadata": {},
     "output_type": "execute_result"
    }
   ],
   "source": [
    "train['Cover_Type'].value_counts()"
   ]
  },
  {
   "cell_type": "code",
   "execution_count": 5,
   "metadata": {
    "_uuid": "744ed0c56e8ec47ba077b83251cfb6e059e9f721"
   },
   "outputs": [],
   "source": [
    "def write_to_submission_file(predicted_labels, out_file,\n",
    "                             target='Cover_Type', index_label=\"Id\", init_index=15121):\n",
    "    # turn predictions into data frame and save as csv file\n",
    "    predicted_df = pd.DataFrame(predicted_labels,\n",
    "                                index = np.arange(init_index, \n",
    "                                                  predicted_labels.shape[0] + init_index),\n",
    "                                columns=[target])\n",
    "    predicted_df.to_csv(out_file, index_label=index_label)"
   ]
  },
  {
   "cell_type": "code",
   "execution_count": 6,
   "metadata": {},
   "outputs": [],
   "source": [
    "def warn(*args, **kwargs):\n",
    "    pass\n",
    "import warnings\n",
    "warnings.warn = warn"
   ]
  },
  {
   "cell_type": "markdown",
   "metadata": {
    "_uuid": "ef4cf3e786ec825484894f5dc103e052d9e101a4"
   },
   "source": [
    "**Perform train-test split**"
   ]
  },
  {
   "cell_type": "code",
   "execution_count": 7,
   "metadata": {
    "_uuid": "169d9d2deadd61332159743e13c6c0ebec2e88f4"
   },
   "outputs": [],
   "source": [
    "Xtrain, Xvalid, ytrain, yvalid = train_test_split(\n",
    "    train.drop('Cover_Type', axis=1), train['Cover_Type'],\n",
    "    test_size=0.3, random_state=17)"
   ]
  },
  {
   "cell_type": "markdown",
   "metadata": {
    "_uuid": "4b29198c00a44930bc6094cb4be0054170cf9c5a"
   },
   "source": [
    "**Test logistic regression**"
   ]
  },
  {
   "cell_type": "code",
   "execution_count": 8,
   "metadata": {
    "_uuid": "18e414c2c4f4b193eff593c8d4c3fefcaed96833"
   },
   "outputs": [],
   "source": [
    "logit = LogisticRegression(C=1, solver='lbfgs', max_iter=500,\n",
    "                           random_state=17, n_jobs=4,\n",
    "                          multi_class='multinomial')\n",
    "logit_pipe = Pipeline(steps=[('scaler', StandardScaler()), \n",
    "                       ('logit', logit)])"
   ]
  },
  {
   "cell_type": "code",
   "execution_count": 9,
   "metadata": {
    "_uuid": "56ceddc12345d41c074d1bf545387eaa0f6a1de3"
   },
   "outputs": [
    {
     "name": "stdout",
     "output_type": "stream",
     "text": [
      "Wall time: 5.42 s\n"
     ]
    },
    {
     "data": {
      "text/plain": [
       "Pipeline(memory=None,\n",
       "         steps=[('scaler',\n",
       "                 StandardScaler(copy=True, with_mean=True, with_std=True)),\n",
       "                ('logit',\n",
       "                 LogisticRegression(C=1, class_weight=None, dual=False,\n",
       "                                    fit_intercept=True, intercept_scaling=1,\n",
       "                                    l1_ratio=None, max_iter=500,\n",
       "                                    multi_class='multinomial', n_jobs=4,\n",
       "                                    penalty='l2', random_state=17,\n",
       "                                    solver='lbfgs', tol=0.0001, verbose=0,\n",
       "                                    warm_start=False))],\n",
       "         verbose=False)"
      ]
     },
     "execution_count": 9,
     "metadata": {},
     "output_type": "execute_result"
    }
   ],
   "source": [
    "%%time\n",
    "logit_pipe.fit(Xtrain, ytrain)"
   ]
  },
  {
   "cell_type": "code",
   "execution_count": 10,
   "metadata": {
    "_uuid": "fea667343e2c738263d6fc714f83f8f99e040211"
   },
   "outputs": [],
   "source": [
    "logit_val_pred = logit_pipe.predict(Xvalid)\n",
    "logit_pred = logit_pipe.predict(Xvalid)\n",
    "logit_pred = np.asarray(logit_pred)\n",
    "write_to_submission_file(logit_pred, 'LoRe_forest_cover_type.csv')"
   ]
  },
  {
   "cell_type": "code",
   "execution_count": 11,
   "metadata": {
    "_uuid": "ce2005c53538500271674b4356f47d5b1148a9b1"
   },
   "outputs": [],
   "source": [
    "Original = accuracy_score(yvalid, logit_val_pred)"
   ]
  },
  {
   "cell_type": "code",
   "execution_count": 12,
   "metadata": {},
   "outputs": [],
   "source": [
    "lore = LogisticRegression(C=1, solver='lbfgs', max_iter=500, n_jobs=4, multi_class='multinomial', verbose=0)\n",
    "lore_pipe = Pipeline(steps=[('scaler', StandardScaler()), \n",
    "                       ('logit', lore)])"
   ]
  },
  {
   "cell_type": "code",
   "execution_count": 13,
   "metadata": {},
   "outputs": [],
   "source": [
    "EstimatorDF = pd.DataFrame(columns=['n_estimators', 'accuracy_score', 'F1 micro', 'F1 macro', 'precision macro', 'precision micro', 'recall macro','recall micro'])"
   ]
  },
  {
   "cell_type": "code",
   "execution_count": 14,
   "metadata": {},
   "outputs": [
    {
     "data": {
      "application/vnd.jupyter.widget-view+json": {
       "model_id": "c1092b8b512a4d1db98c652d58521ef4",
       "version_major": 2,
       "version_minor": 0
      },
      "text/plain": [
       "HBox(children=(IntProgress(value=0, description='Training', max=4, style=ProgressStyle(description_width='init…"
      ]
     },
     "metadata": {},
     "output_type": "display_data"
    },
    {
     "name": "stdout",
     "output_type": "stream",
     "text": [
      "\n",
      "   n_estimators  accuracy_score  F1 micro  F1 macro  precision macro  \\\n",
      "0             1        0.700397  0.700397  0.696990         0.697131   \n",
      "1            10        0.705908  0.705908  0.702511         0.702331   \n",
      "2            50        0.706129  0.706129  0.702627         0.703370   \n",
      "3           100        0.706570  0.706570  0.703170         0.703846   \n",
      "\n",
      "   precision micro  recall macro  recall micro  \n",
      "0         0.700397      0.700678      0.700397  \n",
      "1         0.705908      0.706090      0.705908  \n",
      "2         0.706129      0.706479      0.706129  \n",
      "3         0.706570      0.706917      0.706570  \n"
     ]
    }
   ],
   "source": [
    "from tqdm.notebook import trange\n",
    "import gc\n",
    "from sklearn.ensemble import BaggingClassifier\n",
    "from sklearn import metrics\n",
    "N_E = [1,10,50,100]\n",
    "for est in trange(len(N_E), desc=\"Training\"):\n",
    "    estimators = N_E[est]\n",
    "    clf = BaggingClassifier(base_estimator=lore_pipe, n_estimators=estimators, random_state=estimators, bootstrap = True).fit(Xtrain, ytrain)\n",
    "    pred = clf.predict(Xvalid)\n",
    "    acc = metrics.accuracy_score(yvalid,pred)\n",
    "    f1_micro = metrics.f1_score(yvalid,pred, average='micro')\n",
    "    f1_macro = metrics.f1_score(yvalid,pred,  average='macro')\n",
    "    prec_macro = metrics.precision_score(yvalid,pred, average='macro')\n",
    "    prec_micro = metrics.precision_score(yvalid,pred, average='micro')\n",
    "    rec_macro = metrics.recall_score(yvalid,pred, average='macro')\n",
    "    rec_micro = metrics.recall_score(yvalid,pred, average='micro')\n",
    "    new_row = {'n_estimators' : estimators, 'accuracy_score': acc, 'F1 micro' : f1_micro, 'F1 macro' : f1_macro, 'precision macro':prec_macro, 'precision micro':prec_micro,'recall macro':rec_macro,'recall micro':rec_micro}\n",
    "    #append row to the dataframe\n",
    "    EstimatorDF = EstimatorDF.append(new_row, ignore_index=True)\n",
    "    logit_pred = clf.predict(test)\n",
    "    logit_pred = np.asarray(logit_pred)\n",
    "    write_to_submission_file(logit_pred, str(estimators)+'_LoRe_forest_cover_type.csv')\n",
    "    gc.collect()\n",
    "EstimatorDF[\"n_estimators\"] = EstimatorDF[\"n_estimators\"].astype('int32')\n",
    "print(EstimatorDF)"
   ]
  },
  {
   "cell_type": "code",
   "execution_count": 15,
   "metadata": {},
   "outputs": [],
   "source": [
    "EstimatorDF.to_csv('forest.csv', index=False)"
   ]
  }
 ],
 "metadata": {
  "kernelspec": {
   "display_name": "Python 3",
   "language": "python",
   "name": "python3"
  },
  "language_info": {
   "codemirror_mode": {
    "name": "ipython",
    "version": 3
   },
   "file_extension": ".py",
   "mimetype": "text/x-python",
   "name": "python",
   "nbconvert_exporter": "python",
   "pygments_lexer": "ipython3",
   "version": "3.7.4"
  }
 },
 "nbformat": 4,
 "nbformat_minor": 4
}
